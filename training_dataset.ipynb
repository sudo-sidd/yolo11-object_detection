{
 "cells": [
  {
   "metadata": {},
   "cell_type": "code",
   "source": [
    "!pip install roboflow\n",
    "\n",
    "from roboflow import Roboflow\n",
    "rf = Roboflow(api_key=\"ZKuDOzV6n8JjXdVO6tD6\")\n",
    "project = rf.workspace(\"lab00\").project(\"id-card-detection-p7tqb\")\n",
    "version = project.version(1)\n",
    "dataset = version.download(\"yolov11\")\n",
    "                "
   ],
   "id": "b7325587e7b0e1df",
   "outputs": [],
   "execution_count": null
  },
  {
   "metadata": {},
   "cell_type": "code",
   "source": "!yolo task=detect mode=train model=yolo11s.pt data=ID-card-detection/data.yaml epochs=10 imgsz=416 batch=8 plots=True",
   "id": "3d3c9dc45ffe29c1",
   "outputs": [],
   "execution_count": null
  },
  {
   "metadata": {},
   "cell_type": "code",
   "source": "!pip install ipywidgets opencv-python",
   "id": "ef60b0c56ab291b3",
   "outputs": [],
   "execution_count": null
  },
  {
   "metadata": {
    "ExecuteTime": {
     "end_time": "2024-11-07T10:15:03.768460Z",
     "start_time": "2024-11-07T10:13:39.301576Z"
    }
   },
   "cell_type": "code",
   "source": "!yolo task=detect mode=train model=yolo11n.pt data=ID-card-detection/data.yaml epochs=100 imgsz=640 plots=True project=/mnt/data/Projects/Roboflow/runs name=id-detection-PUSHING\n",
   "id": "fd7ab841214dd0c8",
   "outputs": [
    {
     "name": "stdout",
     "output_type": "stream",
     "text": [
      "New https://pypi.org/project/ultralytics/8.3.28 available 😃 Update with 'pip install -U ultralytics'\r\n",
      "Ultralytics 8.3.27 🚀 Python-3.12.6 torch-2.5.1+cu124 CUDA:0 (NVIDIA GeForce RTX 2050, 3898MiB)\r\n",
      "\u001B[34m\u001B[1mengine/trainer: \u001B[0mtask=detect, mode=train, model=yolo11n.pt, data=ID-card-detection/data.yaml, epochs=100, time=None, patience=100, batch=16, imgsz=640, save=True, save_period=-1, cache=False, device=None, workers=8, project=/mnt/data/Projects/Roboflow/runs, name=id-detection-PUSHING, exist_ok=False, pretrained=True, optimizer=auto, verbose=True, seed=0, deterministic=True, single_cls=False, rect=False, cos_lr=False, close_mosaic=10, resume=False, amp=True, fraction=1.0, profile=False, freeze=None, multi_scale=False, overlap_mask=True, mask_ratio=4, dropout=0.0, val=True, split=val, save_json=False, save_hybrid=False, conf=None, iou=0.7, max_det=300, half=False, dnn=False, plots=True, source=None, vid_stride=1, stream_buffer=False, visualize=False, augment=False, agnostic_nms=False, classes=None, retina_masks=False, embed=None, show=False, save_frames=False, save_txt=False, save_conf=False, save_crop=False, show_labels=True, show_conf=True, show_boxes=True, line_width=None, format=torchscript, keras=False, optimize=False, int8=False, dynamic=False, simplify=True, opset=None, workspace=4, nms=False, lr0=0.01, lrf=0.01, momentum=0.937, weight_decay=0.0005, warmup_epochs=3.0, warmup_momentum=0.8, warmup_bias_lr=0.1, box=7.5, cls=0.5, dfl=1.5, pose=12.0, kobj=1.0, label_smoothing=0.0, nbs=64, hsv_h=0.015, hsv_s=0.7, hsv_v=0.4, degrees=0.0, translate=0.1, scale=0.5, shear=0.0, perspective=0.0, flipud=0.0, fliplr=0.5, bgr=0.0, mosaic=1.0, mixup=0.0, copy_paste=0.0, copy_paste_mode=flip, auto_augment=randaugment, erasing=0.4, crop_fraction=1.0, cfg=None, tracker=botsort.yaml, save_dir=/mnt/data/Projects/Roboflow/runs/id-detection-PUSHING\r\n",
      "Overriding model.yaml nc=80 with nc=4\r\n",
      "\r\n",
      "                   from  n    params  module                                       arguments                     \r\n",
      "  0                  -1  1       464  ultralytics.nn.modules.conv.Conv             [3, 16, 3, 2]                 \r\n",
      "  1                  -1  1      4672  ultralytics.nn.modules.conv.Conv             [16, 32, 3, 2]                \r\n",
      "  2                  -1  1      6640  ultralytics.nn.modules.block.C3k2            [32, 64, 1, False, 0.25]      \r\n",
      "  3                  -1  1     36992  ultralytics.nn.modules.conv.Conv             [64, 64, 3, 2]                \r\n",
      "  4                  -1  1     26080  ultralytics.nn.modules.block.C3k2            [64, 128, 1, False, 0.25]     \r\n",
      "  5                  -1  1    147712  ultralytics.nn.modules.conv.Conv             [128, 128, 3, 2]              \r\n",
      "  6                  -1  1     87040  ultralytics.nn.modules.block.C3k2            [128, 128, 1, True]           \r\n",
      "  7                  -1  1    295424  ultralytics.nn.modules.conv.Conv             [128, 256, 3, 2]              \r\n",
      "  8                  -1  1    346112  ultralytics.nn.modules.block.C3k2            [256, 256, 1, True]           \r\n",
      "  9                  -1  1    164608  ultralytics.nn.modules.block.SPPF            [256, 256, 5]                 \r\n",
      " 10                  -1  1    249728  ultralytics.nn.modules.block.C2PSA           [256, 256, 1]                 \r\n",
      " 11                  -1  1         0  torch.nn.modules.upsampling.Upsample         [None, 2, 'nearest']          \r\n",
      " 12             [-1, 6]  1         0  ultralytics.nn.modules.conv.Concat           [1]                           \r\n",
      " 13                  -1  1    111296  ultralytics.nn.modules.block.C3k2            [384, 128, 1, False]          \r\n",
      " 14                  -1  1         0  torch.nn.modules.upsampling.Upsample         [None, 2, 'nearest']          \r\n",
      " 15             [-1, 4]  1         0  ultralytics.nn.modules.conv.Concat           [1]                           \r\n",
      " 16                  -1  1     32096  ultralytics.nn.modules.block.C3k2            [256, 64, 1, False]           \r\n",
      " 17                  -1  1     36992  ultralytics.nn.modules.conv.Conv             [64, 64, 3, 2]                \r\n",
      " 18            [-1, 13]  1         0  ultralytics.nn.modules.conv.Concat           [1]                           \r\n",
      " 19                  -1  1     86720  ultralytics.nn.modules.block.C3k2            [192, 128, 1, False]          \r\n",
      " 20                  -1  1    147712  ultralytics.nn.modules.conv.Conv             [128, 128, 3, 2]              \r\n",
      " 21            [-1, 10]  1         0  ultralytics.nn.modules.conv.Concat           [1]                           \r\n",
      " 22                  -1  1    378880  ultralytics.nn.modules.block.C3k2            [384, 256, 1, True]           \r\n",
      " 23        [16, 19, 22]  1    431452  ultralytics.nn.modules.head.Detect           [4, [64, 128, 256]]           \r\n",
      "YOLO11n summary: 319 layers, 2,590,620 parameters, 2,590,604 gradients, 6.4 GFLOPs\r\n",
      "\r\n",
      "Transferred 448/499 items from pretrained weights\r\n",
      "Freezing layer 'model.23.dfl.conv.weight'\r\n",
      "\u001B[34m\u001B[1mAMP: \u001B[0mrunning Automatic Mixed Precision (AMP) checks...\r\n",
      "\u001B[34m\u001B[1mAMP: \u001B[0mchecks passed ✅\r\n",
      "\u001B[34m\u001B[1mtrain: \u001B[0mScanning /mnt/data/Projects/Roboflow/ID-card-detection/train/labels.cache\u001B[0m\r\n",
      "\u001B[34m\u001B[1mval: \u001B[0mScanning /mnt/data/Projects/Roboflow/ID-card-detection/valid/labels.cache..\u001B[0m\r\n",
      "Plotting labels to /mnt/data/Projects/Roboflow/runs/id-detection-PUSHING/labels.jpg... \r\n",
      "\u001B[34m\u001B[1moptimizer:\u001B[0m 'optimizer=auto' found, ignoring 'lr0=0.01' and 'momentum=0.937' and determining best 'optimizer', 'lr0' and 'momentum' automatically... \r\n",
      "\u001B[34m\u001B[1moptimizer:\u001B[0m AdamW(lr=0.00125, momentum=0.9) with parameter groups 81 weight(decay=0.0), 88 weight(decay=0.0005), 87 bias(decay=0.0)\r\n",
      "Image sizes 640 train, 640 val\r\n",
      "Using 8 dataloader workers\r\n",
      "Logging results to \u001B[1m/mnt/data/Projects/Roboflow/runs/id-detection-PUSHING\u001B[0m\r\n",
      "Starting training for 100 epochs...\r\n",
      "\r\n",
      "      Epoch    GPU_mem   box_loss   cls_loss   dfl_loss  Instances       Size\r\n",
      "      1/100      2.39G      1.563      3.529      1.785         10        640: 1\r\n",
      "                 Class     Images  Instances      Box(P          R      mAP50  m\r\n",
      "                   all         51         53    0.00646      0.641      0.265      0.168\r\n",
      "\r\n",
      "      Epoch    GPU_mem   box_loss   cls_loss   dfl_loss  Instances       Size\r\n",
      "      2/100      2.42G      1.519      2.652      1.693         12        640: 1\r\n",
      "                 Class     Images  Instances      Box(P          R      mAP50  m\r\n",
      "                   all         51         53       0.65      0.233      0.279       0.12\r\n",
      "\r\n",
      "      Epoch    GPU_mem   box_loss   cls_loss   dfl_loss  Instances       Size\r\n",
      "      3/100      2.41G      1.515      2.433      1.697         13        640: 1\r\n",
      "                 Class     Images  Instances      Box(P          R      mAP50  m\r\n",
      "                   all         51         53      0.584      0.163      0.186     0.0831\r\n",
      "\r\n",
      "      Epoch    GPU_mem   box_loss   cls_loss   dfl_loss  Instances       Size\r\n",
      "      4/100      2.42G      1.563      2.289      1.706         13        640: 1\r\n",
      "                 Class     Images  Instances      Box(P          R      mAP50  m\r\n",
      "                   all         51         53      0.329      0.479       0.38      0.118\r\n",
      "\r\n",
      "      Epoch    GPU_mem   box_loss   cls_loss   dfl_loss  Instances       Size\r\n",
      "      5/100       2.4G      1.528      2.172      1.702          5        640: 1\r\n",
      "                 Class     Images  Instances      Box(P          R      mAP50  m\r\n",
      "                   all         51         53      0.295      0.617      0.493      0.248\r\n",
      "\r\n",
      "      Epoch    GPU_mem   box_loss   cls_loss   dfl_loss  Instances       Size\r\n",
      "      6/100      2.36G       1.52       2.11      1.687         39        640:  ^C\r\n",
      "      6/100      2.36G       1.52       2.11      1.687         39        640:  \r\n",
      "Traceback (most recent call last):\r\n",
      "  File \"/mnt/data/Projects/Roboflow/env/bin/yolo\", line 8, in <module>\r\n",
      "    sys.exit(entrypoint())\r\n",
      "             ^^^^^^^^^^^^\r\n",
      "  File \"/mnt/data/Projects/Roboflow/env/lib/python3.12/site-packages/ultralytics/cfg/__init__.py\", line 826, in entrypoint\r\n",
      "    getattr(model, mode)(**overrides)  # default args from model\r\n",
      "    ^^^^^^^^^^^^^^^^^^^^^^^^^^^^^^^^^\r\n",
      "  File \"/mnt/data/Projects/Roboflow/env/lib/python3.12/site-packages/ultralytics/engine/model.py\", line 802, in train\r\n",
      "    self.trainer.train()\r\n",
      "  File \"/mnt/data/Projects/Roboflow/env/lib/python3.12/site-packages/ultralytics/engine/trainer.py\", line 207, in train\r\n",
      "    self._do_train(world_size)\r\n",
      "  File \"/mnt/data/Projects/Roboflow/env/lib/python3.12/site-packages/ultralytics/engine/trainer.py\", line 413, in _do_train\r\n",
      "    pbar.set_description(\r\n",
      "  File \"/mnt/data/Projects/Roboflow/env/lib/python3.12/site-packages/tqdm/std.py\", line 1382, in set_description\r\n",
      "    def set_description(self, desc=None, refresh=True):\r\n",
      "\r\n",
      "KeyboardInterrupt\r\n"
     ]
    }
   ],
   "execution_count": 1
  },
  {
   "metadata": {},
   "cell_type": "code",
   "source": "",
   "id": "f70e22a86ebc8f75",
   "outputs": [],
   "execution_count": null
  }
 ],
 "metadata": {
  "kernelspec": {
   "display_name": "Python 3",
   "language": "python",
   "name": "python3"
  },
  "language_info": {
   "codemirror_mode": {
    "name": "ipython",
    "version": 2
   },
   "file_extension": ".py",
   "mimetype": "text/x-python",
   "name": "python",
   "nbconvert_exporter": "python",
   "pygments_lexer": "ipython2",
   "version": "2.7.6"
  }
 },
 "nbformat": 4,
 "nbformat_minor": 5
}
